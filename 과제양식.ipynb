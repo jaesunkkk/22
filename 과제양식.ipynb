{
  "nbformat": 4,
  "nbformat_minor": 0,
  "metadata": {
    "colab": {
      "name": "과제양식.ipynb",
      "provenance": [],
      "authorship_tag": "ABX9TyOaVOS+jjYjNVhAWRdP7uk4",
      "include_colab_link": true
    },
    "kernelspec": {
      "name": "python3",
      "display_name": "Python 3"
    },
    "language_info": {
      "name": "python"
    }
  },
  "cells": [
    {
      "cell_type": "markdown",
      "metadata": {
        "id": "view-in-github",
        "colab_type": "text"
      },
      "source": [
        "<a href=\"https://colab.research.google.com/github/jaesunkkk/22/blob/main/%EA%B3%BC%EC%A0%9C%EC%96%91%EC%8B%9D.ipynb\" target=\"_parent\"><img src=\"https://colab.research.google.com/assets/colab-badge.svg\" alt=\"Open In Colab\"/></a>"
      ]
    },
    {
      "cell_type": "markdown",
      "metadata": {
        "id": "zCErxVz0U_Fg"
      },
      "source": [
        "#HW 1\n",
        "\n",
        "## <font color='Yellow'> Problem 1> </font> Write a Python function to check whether a number is perfect or not."
      ]
    },
    {
      "cell_type": "markdown",
      "metadata": {
        "id": "_sjAjkx9VLk4"
      },
      "source": [
        "[Video Solution 2](https://youtu.be/jN4pSKtb2uQ)\n",
        "\n",
        "<font color='green'> Explanation starts here!!!!</font>\n",
        "\n",
        "\n",
        "<font color='green'> Explanation ends here!!!!</font>"
      ]
    },
    {
      "cell_type": "markdown",
      "metadata": {
        "id": "Nw-ZMcuaVRZf"
      },
      "source": [
        "[Video Solution 1](https://youtu.be/jN4pSKtb2uQ)\n",
        "\n",
        "<font color='green'> Explanation starts here!!!!</font>\n",
        "\n",
        "Our goal is: to check whether a number is perfect or not\n",
        "\n",
        "1) to get divisors: use 'if' and n%k==0\n",
        "\n",
        "\n",
        "2) to check perfect number: use 'sum' of the divisors and divide it by 2\n",
        "\n",
        "1st trial:\n",
        "\n",
        "\n",
        "```\n",
        "def perfect(n):\n",
        "    for k in range(1,n+1):\n",
        "        if n%k==0:\n",
        "            return k\n",
        "            a=sum(k)\n",
        "            if a/2==n:\n",
        "                print(\"perfect number\")\n",
        "        else:\n",
        "            print(\"not perfect number\")\n",
        "\n",
        "1\n",
        "```\n",
        "\n",
        "which is not our answer. This function always get '1'\n",
        "\n",
        "My revision: \n",
        "\n",
        "use 'for' and 'append' to create a divisor list\n",
        "\n",
        "2nd trial:\n",
        "\n",
        "```\n",
        "def perfect(n):\n",
        "    p=[]\n",
        "    for k in range(1,n+1):\n",
        "        if n%k==0:\n",
        "            p.append(k)\n",
        "            a=sum(p)\n",
        "            if a/2==n:\n",
        "                print(\"perfect number\")\n",
        "            else:\n",
        "                print(\"not perfect number\")\n",
        "perfect(6)\n",
        "```\n",
        "\n",
        "\n",
        "\n",
        "```\n",
        "not perfect number\n",
        "not perfect number\n",
        "not perfect number\n",
        "perfect number\n",
        "```\n",
        "which is not our expected answer. I think there is an indentation error\n",
        "\n",
        "\n",
        "\n",
        "\n",
        "\n",
        "\n",
        "<font color='green'> Explanation ends here!!!!</font>"
      ]
    },
    {
      "cell_type": "markdown",
      "metadata": {
        "id": "SG_GtMnYXLoH"
      },
      "source": [
        "# <font color='red'><<<**Finally Answer 1**>>></font>"
      ]
    },
    {
      "cell_type": "code",
      "metadata": {
        "colab": {
          "base_uri": "https://localhost:8080/"
        },
        "id": "tjfMczQfUaZS",
        "outputId": "66e7938b-4eb8-4308-808c-f990373c6388"
      },
      "source": [
        "def perfect(n):\n",
        "    p=[]\n",
        "    for k in range(1,n+1):\n",
        "        if n%k==0:\n",
        "            p.append(k)\n",
        "            a=sum(p)\n",
        "    if a/2==n:\n",
        "        print(\"perfect number\")\n",
        "    else:\n",
        "        print(\"not perfect number\")\n",
        "perfect(28)"
      ],
      "execution_count": null,
      "outputs": [
        {
          "output_type": "stream",
          "name": "stdout",
          "text": [
            "perfect number\n"
          ]
        }
      ]
    },
    {
      "cell_type": "code",
      "metadata": {
        "colab": {
          "base_uri": "https://localhost:8080/"
        },
        "id": "8B_YhDxMXQK1",
        "outputId": "107fa0a7-a5d0-42fd-854c-52e8b2c46eac"
      },
      "source": [
        "perfect(6)"
      ],
      "execution_count": null,
      "outputs": [
        {
          "output_type": "stream",
          "name": "stdout",
          "text": [
            "perfect number\n"
          ]
        }
      ]
    },
    {
      "cell_type": "code",
      "metadata": {
        "colab": {
          "base_uri": "https://localhost:8080/"
        },
        "id": "Ihyf-xCZXSne",
        "outputId": "e99ad640-78e9-4750-a176-4757cb192030"
      },
      "source": [
        "perfect(25)"
      ],
      "execution_count": null,
      "outputs": [
        {
          "output_type": "stream",
          "name": "stdout",
          "text": [
            "not perfect number\n"
          ]
        }
      ]
    },
    {
      "cell_type": "markdown",
      "metadata": {
        "id": "osdDrV5WXYPG"
      },
      "source": [
        "## <font color='Yellow'> Problem 2> </font> Write a Python function to check whether a number is perfect or not."
      ]
    },
    {
      "cell_type": "markdown",
      "metadata": {
        "id": "KrulwLjCX3xa"
      },
      "source": [
        "[Video Solution 2](https://youtu.be/jN4pSKtb2uQ)\n",
        "\n",
        "<font color='green'> Explanation starts here!!!!</font>\n",
        "\n",
        "\n",
        "<font color='green'> Explanation ends here!!!!</font>"
      ]
    },
    {
      "cell_type": "markdown",
      "metadata": {
        "id": "ufDtMnDQXeXZ"
      },
      "source": [
        "# <font color='red'><<<**Finally Answer 2**>>></font>"
      ]
    },
    {
      "cell_type": "markdown",
      "metadata": {
        "id": "ArBbrjo1XsUy"
      },
      "source": [
        "## <font color='Yellow'> Problem 3> </font> Write a Python function to check whether a number is perfect or not."
      ]
    },
    {
      "cell_type": "markdown",
      "metadata": {
        "id": "jJxG-POGXgTx"
      },
      "source": [
        "# <font color='red'><<<**Finally Answer 3**>>></font>"
      ]
    },
    {
      "cell_type": "markdown",
      "metadata": {
        "id": "b1r-7QVBX5Jp"
      },
      "source": [
        "[Video Solution 2](https://youtu.be/jN4pSKtb2uQ)\n",
        "\n",
        "<font color='green'> Explanation starts here!!!!</font>\n",
        "\n",
        "\n",
        "<font color='green'> Explanation ends here!!!!</font>"
      ]
    },
    {
      "cell_type": "markdown",
      "metadata": {
        "id": "Svu4ZBoUXuKs"
      },
      "source": [
        "## <font color='Yellow'> Problem 4> </font> Write a Python function to check whether a number is perfect or not."
      ]
    },
    {
      "cell_type": "markdown",
      "metadata": {
        "id": "F97JMqdiXidT"
      },
      "source": [
        "# <font color='red'><<<**Finally Answer 4**>>></font>"
      ]
    },
    {
      "cell_type": "markdown",
      "metadata": {
        "id": "nBCstuRjX6N1"
      },
      "source": [
        "[Video Solution 2](https://youtu.be/jN4pSKtb2uQ)\n",
        "\n",
        "<font color='green'> Explanation starts here!!!!</font>\n",
        "\n",
        "\n",
        "<font color='green'> Explanation ends here!!!!</font>"
      ]
    },
    {
      "cell_type": "markdown",
      "metadata": {
        "id": "ds4aU_FcXwLY"
      },
      "source": [
        "## <font color='Yellow'> Problem 5> </font> Write a Python function to check whether a number is perfect or not."
      ]
    },
    {
      "cell_type": "markdown",
      "metadata": {
        "id": "F7km6XdHXjz2"
      },
      "source": [
        "# <font color='red'><<<**Finally Answer 5**>>></font>"
      ]
    },
    {
      "cell_type": "markdown",
      "metadata": {
        "id": "ZSwvq9KNX7Ck"
      },
      "source": [
        "[Video Solution 2](https://youtu.be/jN4pSKtb2uQ)\n",
        "\n",
        "<font color='green'> Explanation starts here!!!!</font>\n",
        "\n",
        "\n",
        "<font color='green'> Explanation ends here!!!!</font>"
      ]
    },
    {
      "cell_type": "markdown",
      "metadata": {
        "id": "RRiZbC8zXxsR"
      },
      "source": [
        "## <font color='Yellow'> Problem 6> </font> Write a Python function to check whether a number is perfect or not."
      ]
    },
    {
      "cell_type": "markdown",
      "metadata": {
        "id": "5RQVbGrnX8AL"
      },
      "source": [
        "[Video Solution 2](https://youtu.be/jN4pSKtb2uQ)\n",
        "\n",
        "<font color='green'> Explanation starts here!!!!</font>\n",
        "\n",
        "\n",
        "<font color='green'> Explanation ends here!!!!</font>"
      ]
    },
    {
      "cell_type": "markdown",
      "metadata": {
        "id": "VQZSKvnlXnJX"
      },
      "source": [
        "# <font color='red'><<<**Finally Answer 6**>>></font>"
      ]
    },
    {
      "cell_type": "markdown",
      "metadata": {
        "id": "6p1Lx-2SXzXo"
      },
      "source": [
        "## <font color='Yellow'> Problem 7> </font> Write a Python function to check whether a number is perfect or not."
      ]
    },
    {
      "cell_type": "markdown",
      "metadata": {
        "id": "P0UnvfqdX-II"
      },
      "source": [
        "[Video Solution 2](https://youtu.be/jN4pSKtb2uQ)\n",
        "\n",
        "<font color='green'> Explanation starts here!!!!</font>\n",
        "\n",
        "\n",
        "<font color='green'> Explanation ends here!!!!</font>"
      ]
    },
    {
      "cell_type": "markdown",
      "metadata": {
        "id": "YQRinuouXoVp"
      },
      "source": [
        "# <font color='red'><<<**Finally Answer 7**>>></font>"
      ]
    }
  ]
}